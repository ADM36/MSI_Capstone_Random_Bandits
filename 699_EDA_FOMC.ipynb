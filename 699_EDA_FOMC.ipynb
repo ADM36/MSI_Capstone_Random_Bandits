{
 "cells": [
  {
   "cell_type": "markdown",
   "metadata": {},
   "source": [
    "### EDA of the FOMC data set"
   ]
  },
  {
   "cell_type": "markdown",
   "metadata": {},
   "source": [
    "* High level notes:\n",
    "    * 463,210 sentences\n",
    "    * 28,823 sentences contain a '?'\n",
    "    * 69 sentences contain 'will you'\n",
    "    * 195 sentences contain 'can you?'\n",
    "    * 11 sentences contain 'i will'\n",
    "    * The phrases ['can you', 'will you', 'i will'] are all VERB, PRON Lemma combinations and MD, PRP tag combinations."
   ]
  },
  {
   "cell_type": "code",
   "execution_count": 136,
   "metadata": {},
   "outputs": [],
   "source": [
    "import pandas as pd\n",
    "import numpy as np\n",
    "import json\n",
    "import spacy\n",
    "from sklearn.cluster import KMeans\n",
    "from sklearn.feature_extraction.text import TfidfVectorizer\n",
    "import matplotlib.pyplot as plt"
   ]
  },
  {
   "cell_type": "code",
   "execution_count": 3,
   "metadata": {},
   "outputs": [],
   "source": [
    "nlp = spacy.load(\"en_core_web_sm\") "
   ]
  },
  {
   "cell_type": "code",
   "execution_count": 4,
   "metadata": {},
   "outputs": [],
   "source": [
    "file = 'fomc_transcripts.jsonlist'"
   ]
  },
  {
   "cell_type": "code",
   "execution_count": 5,
   "metadata": {},
   "outputs": [],
   "source": [
    "files = []\n",
    "for line in  open(file, 'r'):\n",
    "    files.append(json.loads(line))"
   ]
  },
  {
   "cell_type": "code",
   "execution_count": 6,
   "metadata": {},
   "outputs": [
    {
     "data": {
      "text/plain": [
       "268"
      ]
     },
     "execution_count": 6,
     "metadata": {},
     "output_type": "execute_result"
    }
   ],
   "source": [
    "len(files)"
   ]
  },
  {
   "cell_type": "code",
   "execution_count": 9,
   "metadata": {},
   "outputs": [],
   "source": [
    "list_of_sentences = []"
   ]
  },
  {
   "cell_type": "code",
   "execution_count": 10,
   "metadata": {},
   "outputs": [],
   "source": [
    "sentence_data = pd.DataFrame(columns=['transcript_ID', 'sentence', 'lemmas',\n",
    "                                     'pos', 'tag', 'dep'])"
   ]
  },
  {
   "cell_type": "markdown",
   "metadata": {},
   "source": [
    "* Below code block takes about one hour to run"
   ]
  },
  {
   "cell_type": "code",
   "execution_count": 24,
   "metadata": {},
   "outputs": [],
   "source": [
    "# ID = 0\n",
    "# for file in files:\n",
    "#     for speech in file['speeches']:\n",
    "#         for sentence in speech['sentences']:\n",
    "#             nlp_sentence = nlp(sentence['words'])\n",
    "#             lemmas = []\n",
    "#             poss = []\n",
    "#             tags = []\n",
    "#             deps = []\n",
    "#             for token in nlp_sentence:\n",
    "#                 lemmas.append(token.lemma_)\n",
    "#                 poss.append(token.pos_)\n",
    "#                 tags.append(token.tag_)\n",
    "#                 deps.append(token.dep_,)\n",
    "#             list_of_sentences.append([ID, sentence['words'], lemmas, poss, tags, deps])\n",
    "#     ID += 1\n",
    "#     print(ID)"
   ]
  },
  {
   "cell_type": "code",
   "execution_count": 1,
   "metadata": {},
   "outputs": [],
   "source": [
    "# list_of_sentences[0]"
   ]
  },
  {
   "cell_type": "code",
   "execution_count": 12,
   "metadata": {},
   "outputs": [
    {
     "data": {
      "text/plain": [
       "463210"
      ]
     },
     "execution_count": 12,
     "metadata": {},
     "output_type": "execute_result"
    }
   ],
   "source": [
    "len(list_of_sentences)"
   ]
  },
  {
   "cell_type": "code",
   "execution_count": 20,
   "metadata": {},
   "outputs": [],
   "source": [
    "# sentence_data.append(pd.DataFrame(list_of_sentences, columns=sentence_data.columns)).to_csv('fomc_nlp.csv')"
   ]
  },
  {
   "cell_type": "code",
   "execution_count": 22,
   "metadata": {},
   "outputs": [],
   "source": [
    "fomc_data_nlp = sentence_data.append(pd.DataFrame(list_of_sentences, columns=sentence_data.columns))"
   ]
  },
  {
   "cell_type": "code",
   "execution_count": 23,
   "metadata": {},
   "outputs": [
    {
     "data": {
      "text/plain": [
       "(463210, 6)"
      ]
     },
     "execution_count": 23,
     "metadata": {},
     "output_type": "execute_result"
    }
   ],
   "source": [
    "fomc_data_nlp.shape"
   ]
  },
  {
   "cell_type": "code",
   "execution_count": 25,
   "metadata": {},
   "outputs": [
    {
     "data": {
      "text/html": [
       "<div>\n",
       "<style scoped>\n",
       "    .dataframe tbody tr th:only-of-type {\n",
       "        vertical-align: middle;\n",
       "    }\n",
       "\n",
       "    .dataframe tbody tr th {\n",
       "        vertical-align: top;\n",
       "    }\n",
       "\n",
       "    .dataframe thead th {\n",
       "        text-align: right;\n",
       "    }\n",
       "</style>\n",
       "<table border=\"1\" class=\"dataframe\">\n",
       "  <thead>\n",
       "    <tr style=\"text-align: right;\">\n",
       "      <th></th>\n",
       "      <th>transcript_ID</th>\n",
       "      <th>sentence</th>\n",
       "      <th>lemmas</th>\n",
       "      <th>pos</th>\n",
       "      <th>tag</th>\n",
       "      <th>dep</th>\n",
       "    </tr>\n",
       "  </thead>\n",
       "  <tbody>\n",
       "    <tr>\n",
       "      <th>0</th>\n",
       "      <td>0</td>\n",
       "      <td>gentlemen , this meeting will now come to orde...</td>\n",
       "      <td>[gentleman, ,, this, meeting, will, now, come,...</td>\n",
       "      <td>[NOUN, PUNCT, DET, NOUN, VERB, ADV, VERB, PART...</td>\n",
       "      <td>[NNS, ,, DT, NN, MD, RB, VB, TO, VB, ,, UH, .]</td>\n",
       "      <td>[npadvmod, punct, det, nsubj, aux, advmod, ROO...</td>\n",
       "    </tr>\n",
       "    <tr>\n",
       "      <th>1</th>\n",
       "      <td>0</td>\n",
       "      <td>there are several items that i thought would b...</td>\n",
       "      <td>[there, be, several, item, that, i, think, wou...</td>\n",
       "      <td>[PRON, AUX, ADJ, NOUN, DET, PRON, VERB, VERB, ...</td>\n",
       "      <td>[EX, VBP, JJ, NNS, WDT, PRP, VBD, MD, VB, RBS,...</td>\n",
       "      <td>[expl, ROOT, amod, attr, nsubj, nsubj, relcl, ...</td>\n",
       "    </tr>\n",
       "    <tr>\n",
       "      <th>2</th>\n",
       "      <td>0</td>\n",
       "      <td>and one of them is the agreement concluded by ...</td>\n",
       "      <td>[and, one, of, -PRON-, be, the, agreement, con...</td>\n",
       "      <td>[CCONJ, NUM, ADP, PRON, AUX, DET, NOUN, VERB, ...</td>\n",
       "      <td>[CC, CD, IN, PRP, VBZ, DT, NN, VBN, IN, DT, JJ...</td>\n",
       "      <td>[cc, nsubj, prep, pobj, ROOT, det, attr, acl, ...</td>\n",
       "    </tr>\n",
       "    <tr>\n",
       "      <th>3</th>\n",
       "      <td>0</td>\n",
       "      <td>the agreement has been distributed to the memb...</td>\n",
       "      <td>[the, agreement, have, be, distribute, to, the...</td>\n",
       "      <td>[DET, NOUN, AUX, AUX, VERB, ADP, DET, NOUN, AD...</td>\n",
       "      <td>[DT, NN, VBZ, VBN, VBN, IN, DT, NNS, IN, DT, N...</td>\n",
       "      <td>[det, nsubjpass, aux, auxpass, ROOT, prep, det...</td>\n",
       "    </tr>\n",
       "    <tr>\n",
       "      <th>4</th>\n",
       "      <td>0</td>\n",
       "      <td>i hope you 've all had an opportunity to revie...</td>\n",
       "      <td>[i, hope, -PRON-, ', ve, all, have, an, opport...</td>\n",
       "      <td>[PRON, VERB, PRON, PUNCT, PROPN, DET, AUX, DET...</td>\n",
       "      <td>[PRP, VBP, PRP, '', NNP, DT, VBD, DT, NN, TO, ...</td>\n",
       "      <td>[nsubj, ROOT, nsubj, punct, nsubj, appos, ROOT...</td>\n",
       "    </tr>\n",
       "  </tbody>\n",
       "</table>\n",
       "</div>"
      ],
      "text/plain": [
       "  transcript_ID                                           sentence  \\\n",
       "0             0  gentlemen , this meeting will now come to orde...   \n",
       "1             0  there are several items that i thought would b...   \n",
       "2             0  and one of them is the agreement concluded by ...   \n",
       "3             0  the agreement has been distributed to the memb...   \n",
       "4             0  i hope you 've all had an opportunity to revie...   \n",
       "\n",
       "                                              lemmas  \\\n",
       "0  [gentleman, ,, this, meeting, will, now, come,...   \n",
       "1  [there, be, several, item, that, i, think, wou...   \n",
       "2  [and, one, of, -PRON-, be, the, agreement, con...   \n",
       "3  [the, agreement, have, be, distribute, to, the...   \n",
       "4  [i, hope, -PRON-, ', ve, all, have, an, opport...   \n",
       "\n",
       "                                                 pos  \\\n",
       "0  [NOUN, PUNCT, DET, NOUN, VERB, ADV, VERB, PART...   \n",
       "1  [PRON, AUX, ADJ, NOUN, DET, PRON, VERB, VERB, ...   \n",
       "2  [CCONJ, NUM, ADP, PRON, AUX, DET, NOUN, VERB, ...   \n",
       "3  [DET, NOUN, AUX, AUX, VERB, ADP, DET, NOUN, AD...   \n",
       "4  [PRON, VERB, PRON, PUNCT, PROPN, DET, AUX, DET...   \n",
       "\n",
       "                                                 tag  \\\n",
       "0     [NNS, ,, DT, NN, MD, RB, VB, TO, VB, ,, UH, .]   \n",
       "1  [EX, VBP, JJ, NNS, WDT, PRP, VBD, MD, VB, RBS,...   \n",
       "2  [CC, CD, IN, PRP, VBZ, DT, NN, VBN, IN, DT, JJ...   \n",
       "3  [DT, NN, VBZ, VBN, VBN, IN, DT, NNS, IN, DT, N...   \n",
       "4  [PRP, VBP, PRP, '', NNP, DT, VBD, DT, NN, TO, ...   \n",
       "\n",
       "                                                 dep  \n",
       "0  [npadvmod, punct, det, nsubj, aux, advmod, ROO...  \n",
       "1  [expl, ROOT, amod, attr, nsubj, nsubj, relcl, ...  \n",
       "2  [cc, nsubj, prep, pobj, ROOT, det, attr, acl, ...  \n",
       "3  [det, nsubjpass, aux, auxpass, ROOT, prep, det...  \n",
       "4  [nsubj, ROOT, nsubj, punct, nsubj, appos, ROOT...  "
      ]
     },
     "execution_count": 25,
     "metadata": {},
     "output_type": "execute_result"
    }
   ],
   "source": [
    "fomc_data_nlp.head()"
   ]
  },
  {
   "cell_type": "code",
   "execution_count": 29,
   "metadata": {},
   "outputs": [],
   "source": [
    "questions_fomc_data = fomc_data_nlp[fomc_data_nlp['sentence'].str.contains('?', regex=False) == True]"
   ]
  },
  {
   "cell_type": "code",
   "execution_count": 38,
   "metadata": {},
   "outputs": [
    {
     "data": {
      "text/plain": [
       "(28823, 6)"
      ]
     },
     "execution_count": 38,
     "metadata": {},
     "output_type": "execute_result"
    }
   ],
   "source": [
    "questions_fomc_data.shape"
   ]
  },
  {
   "cell_type": "code",
   "execution_count": 34,
   "metadata": {},
   "outputs": [],
   "source": [
    "will_you_data = questions_fomc_data[questions_fomc_data['sentence'].str.contains(\n",
    "    'will you', regex=False) == True]"
   ]
  },
  {
   "cell_type": "code",
   "execution_count": 36,
   "metadata": {},
   "outputs": [
    {
     "data": {
      "text/plain": [
       "(69, 6)"
      ]
     },
     "execution_count": 36,
     "metadata": {},
     "output_type": "execute_result"
    }
   ],
   "source": [
    "will_you_data.shape"
   ]
  },
  {
   "cell_type": "code",
   "execution_count": 35,
   "metadata": {},
   "outputs": [],
   "source": [
    "can_you_data = questions_fomc_data[questions_fomc_data['sentence'].str.contains(\n",
    "    'can you', regex=False) == True]"
   ]
  },
  {
   "cell_type": "code",
   "execution_count": 37,
   "metadata": {},
   "outputs": [
    {
     "data": {
      "text/plain": [
       "(195, 6)"
      ]
     },
     "execution_count": 37,
     "metadata": {},
     "output_type": "execute_result"
    }
   ],
   "source": [
    "can_you_data.shape"
   ]
  },
  {
   "cell_type": "code",
   "execution_count": 42,
   "metadata": {},
   "outputs": [
    {
     "data": {
      "text/html": [
       "<div>\n",
       "<style scoped>\n",
       "    .dataframe tbody tr th:only-of-type {\n",
       "        vertical-align: middle;\n",
       "    }\n",
       "\n",
       "    .dataframe tbody tr th {\n",
       "        vertical-align: top;\n",
       "    }\n",
       "\n",
       "    .dataframe thead th {\n",
       "        text-align: right;\n",
       "    }\n",
       "</style>\n",
       "<table border=\"1\" class=\"dataframe\">\n",
       "  <thead>\n",
       "    <tr style=\"text-align: right;\">\n",
       "      <th></th>\n",
       "      <th>transcript_ID</th>\n",
       "      <th>sentence</th>\n",
       "      <th>lemmas</th>\n",
       "      <th>pos</th>\n",
       "      <th>tag</th>\n",
       "      <th>dep</th>\n",
       "    </tr>\n",
       "  </thead>\n",
       "  <tbody>\n",
       "    <tr>\n",
       "      <th>6866</th>\n",
       "      <td>5</td>\n",
       "      <td>will you translate that into percentage change...</td>\n",
       "      <td>[will, -PRON-, translate, that, into, percenta...</td>\n",
       "      <td>[VERB, PRON, VERB, SCONJ, ADP, NOUN, NOUN, PUN...</td>\n",
       "      <td>[MD, PRP, VB, IN, IN, NN, NN, ,, RB, ,, NNP, .]</td>\n",
       "      <td>[aux, nsubj, ROOT, dobj, prep, compound, pobj,...</td>\n",
       "    </tr>\n",
       "    <tr>\n",
       "      <th>9939</th>\n",
       "      <td>7</td>\n",
       "      <td>my question was , how will you know ?</td>\n",
       "      <td>[-PRON-, question, be, ,, how, will, -PRON-, k...</td>\n",
       "      <td>[DET, NOUN, AUX, PUNCT, ADV, VERB, PRON, VERB,...</td>\n",
       "      <td>[PRP$, NN, VBD, ,, WRB, MD, PRP, VB, .]</td>\n",
       "      <td>[poss, nsubj, ROOT, punct, advmod, aux, nsubj,...</td>\n",
       "    </tr>\n",
       "    <tr>\n",
       "      <th>17583</th>\n",
       "      <td>11</td>\n",
       "      <td>all right , now , tom , will you be in charge ...</td>\n",
       "      <td>[all, right, ,, now, ,, tom, ,, will, -PRON-, ...</td>\n",
       "      <td>[ADV, ADV, PUNCT, ADV, PUNCT, PROPN, PUNCT, VE...</td>\n",
       "      <td>[RB, RB, ,, RB, ,, NNP, ,, MD, PRP, VB, IN, NN...</td>\n",
       "      <td>[advmod, advmod, punct, advmod, punct, npadvmo...</td>\n",
       "    </tr>\n",
       "    <tr>\n",
       "      <th>27723</th>\n",
       "      <td>18</td>\n",
       "      <td>will you call the roll , mr. broida ?</td>\n",
       "      <td>[will, -PRON-, call, the, roll, ,, mr, ., broi...</td>\n",
       "      <td>[VERB, PRON, VERB, DET, NOUN, PUNCT, PROPN, PR...</td>\n",
       "      <td>[MD, PRP, VB, DT, NN, ,, NNP, NNP, NNP, .]</td>\n",
       "      <td>[aux, nsubj, ROOT, det, dobj, punct, dep, comp...</td>\n",
       "    </tr>\n",
       "    <tr>\n",
       "      <th>29341</th>\n",
       "      <td>19</td>\n",
       "      <td>will you repeat the specifications ?</td>\n",
       "      <td>[will, -PRON-, repeat, the, specification, ?]</td>\n",
       "      <td>[VERB, PRON, VERB, DET, NOUN, PUNCT]</td>\n",
       "      <td>[MD, PRP, VB, DT, NNS, .]</td>\n",
       "      <td>[aux, nsubj, ROOT, det, dobj, punct]</td>\n",
       "    </tr>\n",
       "  </tbody>\n",
       "</table>\n",
       "</div>"
      ],
      "text/plain": [
       "      transcript_ID                                           sentence  \\\n",
       "6866              5  will you translate that into percentage change...   \n",
       "9939              7              my question was , how will you know ?   \n",
       "17583            11  all right , now , tom , will you be in charge ...   \n",
       "27723            18              will you call the roll , mr. broida ?   \n",
       "29341            19               will you repeat the specifications ?   \n",
       "\n",
       "                                                  lemmas  \\\n",
       "6866   [will, -PRON-, translate, that, into, percenta...   \n",
       "9939   [-PRON-, question, be, ,, how, will, -PRON-, k...   \n",
       "17583  [all, right, ,, now, ,, tom, ,, will, -PRON-, ...   \n",
       "27723  [will, -PRON-, call, the, roll, ,, mr, ., broi...   \n",
       "29341      [will, -PRON-, repeat, the, specification, ?]   \n",
       "\n",
       "                                                     pos  \\\n",
       "6866   [VERB, PRON, VERB, SCONJ, ADP, NOUN, NOUN, PUN...   \n",
       "9939   [DET, NOUN, AUX, PUNCT, ADV, VERB, PRON, VERB,...   \n",
       "17583  [ADV, ADV, PUNCT, ADV, PUNCT, PROPN, PUNCT, VE...   \n",
       "27723  [VERB, PRON, VERB, DET, NOUN, PUNCT, PROPN, PR...   \n",
       "29341               [VERB, PRON, VERB, DET, NOUN, PUNCT]   \n",
       "\n",
       "                                                     tag  \\\n",
       "6866     [MD, PRP, VB, IN, IN, NN, NN, ,, RB, ,, NNP, .]   \n",
       "9939             [PRP$, NN, VBD, ,, WRB, MD, PRP, VB, .]   \n",
       "17583  [RB, RB, ,, RB, ,, NNP, ,, MD, PRP, VB, IN, NN...   \n",
       "27723         [MD, PRP, VB, DT, NN, ,, NNP, NNP, NNP, .]   \n",
       "29341                          [MD, PRP, VB, DT, NNS, .]   \n",
       "\n",
       "                                                     dep  \n",
       "6866   [aux, nsubj, ROOT, dobj, prep, compound, pobj,...  \n",
       "9939   [poss, nsubj, ROOT, punct, advmod, aux, nsubj,...  \n",
       "17583  [advmod, advmod, punct, advmod, punct, npadvmo...  \n",
       "27723  [aux, nsubj, ROOT, det, dobj, punct, dep, comp...  \n",
       "29341               [aux, nsubj, ROOT, det, dobj, punct]  "
      ]
     },
     "execution_count": 42,
     "metadata": {},
     "output_type": "execute_result"
    }
   ],
   "source": [
    "will_you_data.head()"
   ]
  },
  {
   "cell_type": "code",
   "execution_count": 47,
   "metadata": {},
   "outputs": [],
   "source": [
    "i_will_data = questions_fomc_data[questions_fomc_data['sentence'].str.contains(\n",
    "    'i will', regex=False) == True]"
   ]
  },
  {
   "cell_type": "code",
   "execution_count": 53,
   "metadata": {},
   "outputs": [
    {
     "data": {
      "text/plain": [
       "(11, 6)"
      ]
     },
     "execution_count": 53,
     "metadata": {},
     "output_type": "execute_result"
    }
   ],
   "source": [
    "i_will_data.shape"
   ]
  },
  {
   "cell_type": "code",
   "execution_count": 56,
   "metadata": {},
   "outputs": [
    {
     "data": {
      "text/plain": [
       "463210"
      ]
     },
     "execution_count": 56,
     "metadata": {},
     "output_type": "execute_result"
    }
   ],
   "source": [
    "len(list(fomc_data_nlp['sentence']))"
   ]
  },
  {
   "cell_type": "code",
   "execution_count": 163,
   "metadata": {},
   "outputs": [],
   "source": [
    "sentence_lengths = []\n",
    "for sentence in fomc_data_nlp['sentence']:\n",
    "    sentence_lengths.append(len(sentence))\n",
    "\n",
    "fomc_data_nlp['sentence_length'] = sentence_lengths"
   ]
  },
  {
   "cell_type": "code",
   "execution_count": 164,
   "metadata": {},
   "outputs": [
    {
     "data": {
      "text/html": [
       "<div>\n",
       "<style scoped>\n",
       "    .dataframe tbody tr th:only-of-type {\n",
       "        vertical-align: middle;\n",
       "    }\n",
       "\n",
       "    .dataframe tbody tr th {\n",
       "        vertical-align: top;\n",
       "    }\n",
       "\n",
       "    .dataframe thead th {\n",
       "        text-align: right;\n",
       "    }\n",
       "</style>\n",
       "<table border=\"1\" class=\"dataframe\">\n",
       "  <thead>\n",
       "    <tr style=\"text-align: right;\">\n",
       "      <th></th>\n",
       "      <th>transcript_ID</th>\n",
       "      <th>sentence</th>\n",
       "      <th>lemmas</th>\n",
       "      <th>pos</th>\n",
       "      <th>tag</th>\n",
       "      <th>dep</th>\n",
       "      <th>sentence_length</th>\n",
       "    </tr>\n",
       "  </thead>\n",
       "  <tbody>\n",
       "    <tr>\n",
       "      <th>0</th>\n",
       "      <td>0</td>\n",
       "      <td>gentlemen , this meeting will now come to orde...</td>\n",
       "      <td>[gentleman, ,, this, meeting, will, now, come,...</td>\n",
       "      <td>[NOUN, PUNCT, DET, NOUN, VERB, ADV, VERB, PART...</td>\n",
       "      <td>[NNS, ,, DT, NN, MD, RB, VB, TO, VB, ,, UH, .]</td>\n",
       "      <td>[npadvmod, punct, det, nsubj, aux, advmod, ROO...</td>\n",
       "      <td>58</td>\n",
       "    </tr>\n",
       "    <tr>\n",
       "      <th>1</th>\n",
       "      <td>0</td>\n",
       "      <td>there are several items that i thought would b...</td>\n",
       "      <td>[there, be, several, item, that, i, think, wou...</td>\n",
       "      <td>[PRON, AUX, ADJ, NOUN, DET, PRON, VERB, VERB, ...</td>\n",
       "      <td>[EX, VBP, JJ, NNS, WDT, PRP, VBD, MD, VB, RBS,...</td>\n",
       "      <td>[expl, ROOT, amod, attr, nsubj, nsubj, relcl, ...</td>\n",
       "      <td>84</td>\n",
       "    </tr>\n",
       "    <tr>\n",
       "      <th>2</th>\n",
       "      <td>0</td>\n",
       "      <td>and one of them is the agreement concluded by ...</td>\n",
       "      <td>[and, one, of, -PRON-, be, the, agreement, con...</td>\n",
       "      <td>[CCONJ, NUM, ADP, PRON, AUX, DET, NOUN, VERB, ...</td>\n",
       "      <td>[CC, CD, IN, PRP, VBZ, DT, NN, VBN, IN, DT, JJ...</td>\n",
       "      <td>[cc, nsubj, prep, pobj, ROOT, det, attr, acl, ...</td>\n",
       "      <td>159</td>\n",
       "    </tr>\n",
       "    <tr>\n",
       "      <th>3</th>\n",
       "      <td>0</td>\n",
       "      <td>the agreement has been distributed to the memb...</td>\n",
       "      <td>[the, agreement, have, be, distribute, to, the...</td>\n",
       "      <td>[DET, NOUN, AUX, AUX, VERB, ADP, DET, NOUN, AD...</td>\n",
       "      <td>[DT, NN, VBZ, VBN, VBN, IN, DT, NNS, IN, DT, N...</td>\n",
       "      <td>[det, nsubjpass, aux, auxpass, ROOT, prep, det...</td>\n",
       "      <td>68</td>\n",
       "    </tr>\n",
       "    <tr>\n",
       "      <th>4</th>\n",
       "      <td>0</td>\n",
       "      <td>i hope you 've all had an opportunity to revie...</td>\n",
       "      <td>[i, hope, -PRON-, ', ve, all, have, an, opport...</td>\n",
       "      <td>[PRON, VERB, PRON, PUNCT, PROPN, DET, AUX, DET...</td>\n",
       "      <td>[PRP, VBP, PRP, '', NNP, DT, VBD, DT, NN, TO, ...</td>\n",
       "      <td>[nsubj, ROOT, nsubj, punct, nsubj, appos, ROOT...</td>\n",
       "      <td>52</td>\n",
       "    </tr>\n",
       "  </tbody>\n",
       "</table>\n",
       "</div>"
      ],
      "text/plain": [
       "  transcript_ID                                           sentence  \\\n",
       "0             0  gentlemen , this meeting will now come to orde...   \n",
       "1             0  there are several items that i thought would b...   \n",
       "2             0  and one of them is the agreement concluded by ...   \n",
       "3             0  the agreement has been distributed to the memb...   \n",
       "4             0  i hope you 've all had an opportunity to revie...   \n",
       "\n",
       "                                              lemmas  \\\n",
       "0  [gentleman, ,, this, meeting, will, now, come,...   \n",
       "1  [there, be, several, item, that, i, think, wou...   \n",
       "2  [and, one, of, -PRON-, be, the, agreement, con...   \n",
       "3  [the, agreement, have, be, distribute, to, the...   \n",
       "4  [i, hope, -PRON-, ', ve, all, have, an, opport...   \n",
       "\n",
       "                                                 pos  \\\n",
       "0  [NOUN, PUNCT, DET, NOUN, VERB, ADV, VERB, PART...   \n",
       "1  [PRON, AUX, ADJ, NOUN, DET, PRON, VERB, VERB, ...   \n",
       "2  [CCONJ, NUM, ADP, PRON, AUX, DET, NOUN, VERB, ...   \n",
       "3  [DET, NOUN, AUX, AUX, VERB, ADP, DET, NOUN, AD...   \n",
       "4  [PRON, VERB, PRON, PUNCT, PROPN, DET, AUX, DET...   \n",
       "\n",
       "                                                 tag  \\\n",
       "0     [NNS, ,, DT, NN, MD, RB, VB, TO, VB, ,, UH, .]   \n",
       "1  [EX, VBP, JJ, NNS, WDT, PRP, VBD, MD, VB, RBS,...   \n",
       "2  [CC, CD, IN, PRP, VBZ, DT, NN, VBN, IN, DT, JJ...   \n",
       "3  [DT, NN, VBZ, VBN, VBN, IN, DT, NNS, IN, DT, N...   \n",
       "4  [PRP, VBP, PRP, '', NNP, DT, VBD, DT, NN, TO, ...   \n",
       "\n",
       "                                                 dep  sentence_length  \n",
       "0  [npadvmod, punct, det, nsubj, aux, advmod, ROO...               58  \n",
       "1  [expl, ROOT, amod, attr, nsubj, nsubj, relcl, ...               84  \n",
       "2  [cc, nsubj, prep, pobj, ROOT, det, attr, acl, ...              159  \n",
       "3  [det, nsubjpass, aux, auxpass, ROOT, prep, det...               68  \n",
       "4  [nsubj, ROOT, nsubj, punct, nsubj, appos, ROOT...               52  "
      ]
     },
     "execution_count": 164,
     "metadata": {},
     "output_type": "execute_result"
    }
   ],
   "source": [
    "fomc_data_nlp.head()"
   ]
  },
  {
   "cell_type": "code",
   "execution_count": 166,
   "metadata": {},
   "outputs": [],
   "source": [
    "lengths = fomc_data_nlp['sentence_length']"
   ]
  },
  {
   "cell_type": "code",
   "execution_count": 174,
   "metadata": {},
   "outputs": [
    {
     "data": {
      "image/png": "[encoded data removed]",
      "text/plain": [
       "<matplotlib.figure.Figure at 0x1ade716ba8>"
      ]
     },
     "metadata": {},
     "output_type": "display_data"
    }
   ],
   "source": [
    "bins=[0, 10, 20, 30, 40, 50, 70, 100, 150, 200, 300, 500, 1000]\n",
    "n, bins, patches = plt.hist(lengths, bins, facecolor='blue', alpha=0.5)\n",
    "plt.show()"
   ]
  },
  {
   "cell_type": "markdown",
   "metadata": {},
   "source": [
    "### K Means Clustering"
   ]
  },
  {
   "cell_type": "code",
   "execution_count": 112,
   "metadata": {},
   "outputs": [],
   "source": [
    "fomc_documents = pd.DataFrame(columns=['transcript_ID', 'document'])\n",
    "\n",
    "all_documents = fomc_data_nlp.groupby(\"transcript_ID\")['sentence'].apply(\n",
    "    lambda sentence: '&'.join(sentence))"
   ]
  },
  {
   "cell_type": "code",
   "execution_count": 115,
   "metadata": {},
   "outputs": [],
   "source": [
    "# all_documents[0]"
   ]
  },
  {
   "cell_type": "code",
   "execution_count": 124,
   "metadata": {},
   "outputs": [],
   "source": [
    "tf_idf_documents = all_documents.to_frame()"
   ]
  },
  {
   "cell_type": "code",
   "execution_count": 120,
   "metadata": {},
   "outputs": [],
   "source": [
    "# tf_idf_documents.iloc[0]['sentence']"
   ]
  },
  {
   "cell_type": "code",
   "execution_count": 125,
   "metadata": {},
   "outputs": [],
   "source": [
    "tf_idf_documents[\"sentence\"]= tf_idf_documents[\"sentence\"].str.split(\"&\") "
   ]
  },
  {
   "cell_type": "code",
   "execution_count": 128,
   "metadata": {},
   "outputs": [],
   "source": [
    "# tf_idf_documents.iloc[0]['sentence']"
   ]
  },
  {
   "cell_type": "markdown",
   "metadata": {},
   "source": [
    "### testing kmeans on one document"
   ]
  },
  {
   "cell_type": "code",
   "execution_count": 131,
   "metadata": {},
   "outputs": [],
   "source": [
    "test_document = tf_idf_documents.iloc[0]['sentence']"
   ]
  },
  {
   "cell_type": "code",
   "execution_count": 133,
   "metadata": {},
   "outputs": [],
   "source": [
    "vectorizer = TfidfVectorizer(stop_words='english')\n",
    "X = vectorizer.fit_transform(test_document)\n",
    "words = vectorizer.get_feature_names()"
   ]
  },
  {
   "cell_type": "code",
   "execution_count": 137,
   "metadata": {},
   "outputs": [
    {
     "data": {
      "image/png": "[encoded data removed]",
      "text/plain": [
       "<matplotlib.figure.Figure at 0x1ae7723c8>"
      ]
     },
     "metadata": {},
     "output_type": "display_data"
    }
   ],
   "source": [
    "wcss = []\n",
    "for i in range(1,11):\n",
    "    kmeans = KMeans(n_clusters=i,init='k-means++',max_iter=300,n_init=10,random_state=0)\n",
    "    kmeans.fit(X)\n",
    "    wcss.append(kmeans.inertia_)\n",
    "plt.plot(range(1,11),wcss)\n",
    "plt.title('The Elbow Method')\n",
    "plt.xlabel('Number of clusters')\n",
    "plt.ylabel('WCSS')\n",
    "plt.show()"
   ]
  },
  {
   "cell_type": "code",
   "execution_count": 138,
   "metadata": {},
   "outputs": [
    {
     "data": {
      "text/plain": [
       "KMeans(algorithm='auto', copy_x=True, init='k-means++', max_iter=100,\n",
       "       n_clusters=6, n_init=1, n_jobs=None, precompute_distances='auto',\n",
       "       random_state=None, tol=0.0001, verbose=0)"
      ]
     },
     "execution_count": 138,
     "metadata": {},
     "output_type": "execute_result"
    }
   ],
   "source": [
    "true_k = 6\n",
    "model = KMeans(n_clusters=true_k, init='k-means++', max_iter=100, n_init=1)\n",
    "model.fit(X)"
   ]
  },
  {
   "cell_type": "code",
   "execution_count": 139,
   "metadata": {},
   "outputs": [],
   "source": [
    "order_centroids = model.cluster_centers_.argsort()[:, ::-1]\n",
    "terms = vectorizer.get_feature_names()"
   ]
  },
  {
   "cell_type": "code",
   "execution_count": 150,
   "metadata": {},
   "outputs": [],
   "source": [
    "# print(\"Top terms per cluster:\")\n",
    "# for i in range(true_k):\n",
    "#     print(\"Cluster %d:\" % i),\n",
    "#     for ind in order_centroids[i, :15]:\n",
    "#         print(\" %s\" % terms[ind])"
   ]
  },
  {
   "cell_type": "code",
   "execution_count": 144,
   "metadata": {},
   "outputs": [],
   "source": [
    "# print(“\\n”)\n",
    "# print(“Prediction”)\n",
    "# X = vectorizer.transform(\n",
    "#     [\"Nothing is easy in cricket. But it is not. You have to use your brain and time the ball.\"])\n",
    "# predicted = model.predict(X)\n",
    "# print(predicted)"
   ]
  },
  {
   "cell_type": "markdown",
   "metadata": {},
   "source": [
    "### testing kmeans on all documents"
   ]
  },
  {
   "cell_type": "code",
   "execution_count": 154,
   "metadata": {},
   "outputs": [],
   "source": [
    "all_documents = []\n",
    "for i in range(len(tf_idf_documents)):\n",
    "               all_documents += tf_idf_documents.iloc[i]['sentence']"
   ]
  },
  {
   "cell_type": "code",
   "execution_count": 156,
   "metadata": {},
   "outputs": [],
   "source": [
    "# all_documents"
   ]
  },
  {
   "cell_type": "code",
   "execution_count": 157,
   "metadata": {},
   "outputs": [],
   "source": [
    "vectorizer = TfidfVectorizer(stop_words='english')\n",
    "X2 = vectorizer.fit_transform(all_documents)\n",
    "words2 = vectorizer.get_feature_names()"
   ]
  },
  {
   "cell_type": "code",
   "execution_count": 160,
   "metadata": {},
   "outputs": [],
   "source": [
    "# wcss = []\n",
    "# for i in range(1,11):\n",
    "#     print(i)\n",
    "#     kmeans = KMeans(n_clusters=i,init='k-means++',max_iter=50,n_init=5,random_state=0)\n",
    "#     kmeans.fit(X2)\n",
    "#     wcss.append(kmeans.inertia_)\n",
    "# plt.plot(range(1,11),wcss)\n",
    "# plt.title('The Elbow Method')\n",
    "# plt.xlabel('Number of clusters')\n",
    "# plt.ylabel('WCSS')\n",
    "# plt.show()"
   ]
  },
  {
   "cell_type": "code",
   "execution_count": 175,
   "metadata": {},
   "outputs": [
    {
     "data": {
      "text/plain": [
       "KMeans(algorithm='auto', copy_x=True, init='k-means++', max_iter=100,\n",
       "       n_clusters=6, n_init=1, n_jobs=None, precompute_distances='auto',\n",
       "       random_state=None, tol=0.0001, verbose=0)"
      ]
     },
     "execution_count": 175,
     "metadata": {},
     "output_type": "execute_result"
    }
   ],
   "source": [
    "true_k = 6\n",
    "model = KMeans(n_clusters=true_k, init='k-means++', max_iter=100, n_init=1)\n",
    "model.fit(X2)"
   ]
  },
  {
   "cell_type": "code",
   "execution_count": 176,
   "metadata": {},
   "outputs": [],
   "source": [
    "order_centroids = model.cluster_centers_.argsort()[:, ::-1]\n",
    "terms = vectorizer.get_feature_names()"
   ]
  },
  {
   "cell_type": "code",
   "execution_count": 177,
   "metadata": {},
   "outputs": [
    {
     "name": "stdout",
     "output_type": "stream",
     "text": [
      "Top terms per cluster:\n",
      "Cluster 0:\n",
      " think\n",
      " thank\n",
      " mr\n",
      " chairman\n",
      " yes\n",
      " president\n",
      " just\n",
      " rate\n",
      " time\n",
      " year\n",
      " market\n",
      " growth\n",
      " point\n",
      " know\n",
      " policy\n",
      "Cluster 1:\n",
      " going\n",
      " inflation\n",
      " think\n",
      " rate\n",
      " expectations\n",
      " growth\n",
      " forward\n",
      " policy\n",
      " economy\n",
      " rates\n",
      " forecast\n",
      " year\n",
      " core\n",
      " time\n",
      " higher\n",
      "Cluster 2:\n",
      " lsb\n",
      " rsb\n",
      " laughter\n",
      " unintelligible\n",
      " appendix\n",
      " think\n",
      " statement\n",
      " rate\n",
      " percent\n",
      " going\n",
      " growth\n",
      " range\n",
      " just\n",
      " say\n",
      " time\n",
      "Cluster 3:\n",
      " percent\n",
      " rate\n",
      " year\n",
      " growth\n",
      " 10\n",
      " range\n",
      " quarter\n",
      " funds\n",
      " 11\n",
      " inflation\n",
      " m2\n",
      " think\n",
      " real\n",
      " unemployment\n",
      " annual\n",
      "Cluster 4:\n",
      " right\n",
      " think\n",
      " yes\n",
      " thank\n",
      " mr\n",
      " exactly\n",
      " absolutely\n",
      " probably\n",
      " just\n",
      " hope\n",
      " percent\n",
      " thing\n",
      " know\n",
      " wrong\n",
      " quite\n",
      "Cluster 5:\n",
      " sure\n",
      " make\n",
      " want\n",
      " going\n",
      " quite\n",
      " know\n",
      " think\n",
      " just\n",
      " understand\n",
      " right\n",
      " way\n",
      " say\n",
      " point\n",
      " really\n",
      " exactly\n"
     ]
    }
   ],
   "source": [
    "print(\"Top terms per cluster:\")\n",
    "for i in range(true_k):\n",
    "    print(\"Cluster %d:\" % i),\n",
    "    for ind in order_centroids[i, :15]:\n",
    "        print(\" %s\" % terms[ind])"
   ]
  },
  {
   "cell_type": "code",
   "execution_count": null,
   "metadata": {},
   "outputs": [],
   "source": []
  }
 ],
 "metadata": {
  "kernelspec": {
   "display_name": "Python 3",
   "language": "python",
   "name": "python3"
  },
  "language_info": {
   "codemirror_mode": {
    "name": "ipython",
    "version": 3
   },
   "file_extension": ".py",
   "mimetype": "text/x-python",
   "name": "python",
   "nbconvert_exporter": "python",
   "pygments_lexer": "ipython3",
   "version": "3.6.9"
  }
 },
 "nbformat": 4,
 "nbformat_minor": 4
}
